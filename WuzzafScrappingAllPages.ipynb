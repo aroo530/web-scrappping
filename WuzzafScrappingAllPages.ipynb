{
 "cells": [
  {
   "cell_type": "markdown",
   "metadata": {},
   "source": [
    "# Wuzzaf Scrapping Data for ITs jobs Full pages"
   ]
  },
  {
   "cell_type": "code",
   "execution_count": 4,
   "metadata": {},
   "outputs": [],
   "source": [
    "from bs4 import BeautifulSoup as bs\n",
    "from urllib.request import urlopen\n",
    "import csv"
   ]
  },
  {
   "cell_type": "code",
   "execution_count": 5,
   "metadata": {},
   "outputs": [],
   "source": [
    "x=list(range(132))\n",
    "limit=2620\n",
    "keys=0\n",
    "urls=[]\n",
    "for i in x:\n",
    "    key=keys\n",
    "    y = str(key)\n",
    "    url='https://wuzzuf.net/a/IT-Software-Development-Jobs-in-Egypt?start='+y\n",
    "    urls.append(url)\n",
    "    #print(urls)\n",
    "    #print(url)\n",
    "    keys+=20\n",
    "    if key==limit:\n",
    "        break\n",
    "#print(urls[2])"
   ]
  },
  {
   "cell_type": "code",
   "execution_count": 46,
   "metadata": {
    "scrolled": true
   },
   "outputs": [
    {
     "name": "stdout",
     "output_type": "stream",
     "text": [
      "https://wuzzuf.net/a/IT-Software-Development-Jobs-in-Egypt?start=0\n",
      "\n"
     ]
    },
    {
     "ename": "NameError",
     "evalue": "name 'job_description' is not defined",
     "output_type": "error",
     "traceback": [
      "\u001b[1;31m---------------------------------------------------------------------------\u001b[0m",
      "\u001b[1;31mNameError\u001b[0m                                 Traceback (most recent call last)",
      "\u001b[1;32m<ipython-input-46-cbc8f0cfb400>\u001b[0m in \u001b[0;36m<module>\u001b[1;34m\u001b[0m\n\u001b[0;32m     22\u001b[0m \u001b[1;33m\u001b[0m\u001b[0m\n\u001b[0;32m     23\u001b[0m \u001b[1;33m\u001b[0m\u001b[0m\n\u001b[1;32m---> 24\u001b[1;33m         \u001b[0mf\u001b[0m\u001b[1;33m.\u001b[0m\u001b[0mwrite\u001b[0m\u001b[1;33m(\u001b[0m\u001b[0murl\u001b[0m\u001b[1;33m+\u001b[0m\u001b[1;34m\", \"\u001b[0m\u001b[1;33m+\u001b[0m\u001b[0mjob_title\u001b[0m \u001b[1;33m+\u001b[0m \u001b[1;34m\", \"\u001b[0m \u001b[1;33m+\u001b[0m \u001b[0mcompany_names\u001b[0m \u001b[1;33m+\u001b[0m\u001b[1;34m\", \"\u001b[0m\u001b[1;33m+\u001b[0m\u001b[0mjob_title\u001b[0m \u001b[1;33m+\u001b[0m \u001b[1;34m\", \"\u001b[0m \u001b[1;33m+\u001b[0m \u001b[0mjob_links\u001b[0m\u001b[1;33m+\u001b[0m\u001b[1;34m\", \"\u001b[0m\u001b[1;33m+\u001b[0m\u001b[0mjob_description\u001b[0m\u001b[1;33m+\u001b[0m\u001b[1;34m\", \"\u001b[0m \u001b[1;33m+\u001b[0m \u001b[0mcompany_locations\u001b[0m  \u001b[1;33m+\u001b[0m \u001b[1;34m\"\\n \"\u001b[0m\u001b[1;33m)\u001b[0m\u001b[1;33m\u001b[0m\u001b[1;33m\u001b[0m\u001b[0m\n\u001b[0m\u001b[0;32m     25\u001b[0m         \u001b[1;32mif\u001b[0m \u001b[0mx\u001b[0m\u001b[1;33m==\u001b[0m\u001b[1;36m1\u001b[0m\u001b[1;33m:\u001b[0m\u001b[1;33m\u001b[0m\u001b[1;33m\u001b[0m\u001b[0m\n\u001b[0;32m     26\u001b[0m                 \u001b[1;32mbreak\u001b[0m\u001b[1;33m\u001b[0m\u001b[1;33m\u001b[0m\u001b[0m\n",
      "\u001b[1;31mNameError\u001b[0m: name 'job_description' is not defined"
     ]
    }
   ],
   "source": [
    "f= open(\"ًwuzzaf202.csv\",\"w\",encoding='utf-8')\n",
    "header = \"page_URL ,job_title ,company_names ,job_link ,job_link_link, job_description,location\\n\"\n",
    "f.write(header) \n",
    "x=0\n",
    "for url in urls:\n",
    "    print(url)    \n",
    "    client=urlopen(url)\n",
    "    html= client.read()\n",
    "    client.close()\n",
    "    soup = bs(html,\"html.parser\")\n",
    "    containers = soup.find_all(\"div\",{\"class\":\"result-wrp row\"}) \n",
    "    x+=1 \n",
    "    for container in containers:\n",
    "#        container.text.strip()\n",
    "#       print(container)\n",
    "        job_job = container.findAll(\"h2\",{\"class\":\"job-title\"})\n",
    "        job_title = job_job[0].text.strip()\n",
    "        job_title = job_title.replace(',','-')\n",
    "        \n",
    "        \n",
    "        job_link = container.findAll('a',{\"class\":\"mobile-job-link\"}, href=True)\n",
    "        job_links = job_link[0]['href'].strip()\n",
    "            \n",
    "        company_name = container.findAll(\"span\",{\"class\":\"company-name\"})\n",
    "        company_names = company_name[0].text.strip()\n",
    "        company_names = company_names.replace(',','-')\n",
    "        \n",
    "        company_location=container.findAll(\"span\",{\"class\":\"location location-desktop\"})\n",
    "        company_locations = company_location[0].text.strip()\n",
    "        company_locations = company_locations.replace(',','-')\n",
    "        \n",
    "        job_type = container.findAll(\"div\",{\"class\":\"job-details\"})\n",
    "        job_description = job_type[0].text.strip()\n",
    "        job_description = ' '.join(job_description.split())\n",
    "        job_description = job_description.replace(',','/')\n",
    "        \n",
    "        f.write(url+\", \"+job_title + \", \" + company_names +\", \"+job_title + \", \" + job_links+\", \"+job_description+\", \" + company_locations  + \"\\n \") \n",
    "            \n",
    "f.close()"
   ]
  },
  {
   "cell_type": "code",
   "execution_count": null,
   "metadata": {},
   "outputs": [],
   "source": []
  }
 ],
 "metadata": {
  "kernelspec": {
   "display_name": "Python 3",
   "language": "python",
   "name": "python3"
  },
  "language_info": {
   "codemirror_mode": {
    "name": "ipython",
    "version": 3
   },
   "file_extension": ".py",
   "mimetype": "text/x-python",
   "name": "python",
   "nbconvert_exporter": "python",
   "pygments_lexer": "ipython3",
   "version": "3.8.8"
  }
 },
 "nbformat": 4,
 "nbformat_minor": 2
}
