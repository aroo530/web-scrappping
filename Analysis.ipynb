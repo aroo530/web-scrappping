{
 "cells": [
  {
   "cell_type": "markdown",
   "id": "b94154f2",
   "metadata": {},
   "source": [
    "Okay first things first I found your Kaggle repo I am really grateful to you for not hiding it that helped a\n",
    "lot"
   ]
  },
  {
   "cell_type": "code",
   "execution_count": 35,
   "id": "bf70c06f",
   "metadata": {},
   "outputs": [],
   "source": [
    "import pandas as pd\n",
    "import matplotlib.pyplot as plt\n",
    "import numpy as np\n",
    "main_df=pd.read_csv(\"wuzzuf20-21.csv\")"
   ]
  },
  {
   "cell_type": "code",
   "execution_count": 2,
   "id": "e1cffc4c",
   "metadata": {
    "scrolled": false
   },
   "outputs": [
    {
     "data": {
      "text/html": [
       "<div>\n",
       "<style scoped>\n",
       "    .dataframe tbody tr th:only-of-type {\n",
       "        vertical-align: middle;\n",
       "    }\n",
       "\n",
       "    .dataframe tbody tr th {\n",
       "        vertical-align: top;\n",
       "    }\n",
       "\n",
       "    .dataframe thead th {\n",
       "        text-align: right;\n",
       "    }\n",
       "</style>\n",
       "<table border=\"1\" class=\"dataframe\">\n",
       "  <thead>\n",
       "    <tr style=\"text-align: right;\">\n",
       "      <th></th>\n",
       "      <th>#PAGE_URL</th>\n",
       "      <th>title</th>\n",
       "      <th>company-name</th>\n",
       "      <th>job-link</th>\n",
       "      <th>job-link_link</th>\n",
       "      <th>short-description-</th>\n",
       "      <th>location</th>\n",
       "    </tr>\n",
       "  </thead>\n",
       "  <tbody>\n",
       "    <tr>\n",
       "      <th>0</th>\n",
       "      <td>https://wuzzuf.net/a/IT-Software-Development-J...</td>\n",
       "      <td>Sales Supervisor - North Upper Egypt</td>\n",
       "      <td>PepsiCo International</td>\n",
       "      <td>Sales Supervisor - North Upper Egypt</td>\n",
       "      <td>https://wuzzuf.net/jobs/p/cc5848eb-a2c4-4055-9...</td>\n",
       "      <td>Full Time · Manager · 1-3 Yrs of Exp · FMCG · ...</td>\n",
       "      <td>Beni Suef Egypt</td>\n",
       "    </tr>\n",
       "    <tr>\n",
       "      <th>1</th>\n",
       "      <td>https://wuzzuf.net/a/IT-Software-Development-J...</td>\n",
       "      <td>Junior Technical Support Engineer - Upper Egypt</td>\n",
       "      <td>MigrationIT.com</td>\n",
       "      <td>Junior Technical Support Engineer - Upper Egypt</td>\n",
       "      <td>https://wuzzuf.net/jobs/p/39a68f94-611c-4a07-9...</td>\n",
       "      <td>Full Time · Entry Level · 1-2 Yrs of Exp · ITI...</td>\n",
       "      <td>Assiut Egypt</td>\n",
       "    </tr>\n",
       "    <tr>\n",
       "      <th>2</th>\n",
       "      <td>https://wuzzuf.net/a/IT-Software-Development-J...</td>\n",
       "      <td>Software Developer</td>\n",
       "      <td>Rednet It Services</td>\n",
       "      <td>Software Developer</td>\n",
       "      <td>https://wuzzuf.net/jobs/p/7f3aec8d-1724-4f0c-9...</td>\n",
       "      <td>Full Time · Experienced · 2-3 Yrs of Exp · Sof...</td>\n",
       "      <td>Maadi Cairo</td>\n",
       "    </tr>\n",
       "    <tr>\n",
       "      <th>3</th>\n",
       "      <td>https://wuzzuf.net/a/IT-Software-Development-J...</td>\n",
       "      <td>Senior Software Quality Control Engineer</td>\n",
       "      <td>Bnsights</td>\n",
       "      <td>Senior Software Quality Control Engineer</td>\n",
       "      <td>https://wuzzuf.net/jobs/p/bbc5d1cb-33ff-4c10-a...</td>\n",
       "      <td>Full Time · Experienced · 3-5 Yrs of Exp · Com...</td>\n",
       "      <td>New Cairo Cairo</td>\n",
       "    </tr>\n",
       "    <tr>\n",
       "      <th>4</th>\n",
       "      <td>https://wuzzuf.net/a/IT-Software-Development-J...</td>\n",
       "      <td>Senior E-Commerce Software Developer (Magento 2)</td>\n",
       "      <td>shop4build</td>\n",
       "      <td>Senior E-Commerce Software Developer (Magento 2)</td>\n",
       "      <td>https://wuzzuf.net/jobs/p/2be88ac7-5a6c-4a5a-8...</td>\n",
       "      <td>Full Time · Part Time · Work From Home · Exper...</td>\n",
       "      <td>Maadi Cairo</td>\n",
       "    </tr>\n",
       "  </tbody>\n",
       "</table>\n",
       "</div>"
      ],
      "text/plain": [
       "                                           #PAGE_URL  \\\n",
       "0  https://wuzzuf.net/a/IT-Software-Development-J...   \n",
       "1  https://wuzzuf.net/a/IT-Software-Development-J...   \n",
       "2  https://wuzzuf.net/a/IT-Software-Development-J...   \n",
       "3  https://wuzzuf.net/a/IT-Software-Development-J...   \n",
       "4  https://wuzzuf.net/a/IT-Software-Development-J...   \n",
       "\n",
       "                                              title           company-name  \\\n",
       "0              Sales Supervisor - North Upper Egypt  PepsiCo International   \n",
       "1   Junior Technical Support Engineer - Upper Egypt        MigrationIT.com   \n",
       "2                                Software Developer     Rednet It Services   \n",
       "3          Senior Software Quality Control Engineer               Bnsights   \n",
       "4  Senior E-Commerce Software Developer (Magento 2)             shop4build   \n",
       "\n",
       "                                           job-link  \\\n",
       "0              Sales Supervisor - North Upper Egypt   \n",
       "1   Junior Technical Support Engineer - Upper Egypt   \n",
       "2                                Software Developer   \n",
       "3          Senior Software Quality Control Engineer   \n",
       "4  Senior E-Commerce Software Developer (Magento 2)   \n",
       "\n",
       "                                       job-link_link  \\\n",
       "0  https://wuzzuf.net/jobs/p/cc5848eb-a2c4-4055-9...   \n",
       "1  https://wuzzuf.net/jobs/p/39a68f94-611c-4a07-9...   \n",
       "2  https://wuzzuf.net/jobs/p/7f3aec8d-1724-4f0c-9...   \n",
       "3  https://wuzzuf.net/jobs/p/bbc5d1cb-33ff-4c10-a...   \n",
       "4  https://wuzzuf.net/jobs/p/2be88ac7-5a6c-4a5a-8...   \n",
       "\n",
       "                                  short-description-         location  \n",
       "0  Full Time · Manager · 1-3 Yrs of Exp · FMCG · ...  Beni Suef Egypt  \n",
       "1  Full Time · Entry Level · 1-2 Yrs of Exp · ITI...     Assiut Egypt  \n",
       "2  Full Time · Experienced · 2-3 Yrs of Exp · Sof...      Maadi Cairo  \n",
       "3  Full Time · Experienced · 3-5 Yrs of Exp · Com...  New Cairo Cairo  \n",
       "4  Full Time · Part Time · Work From Home · Exper...      Maadi Cairo  "
      ]
     },
     "execution_count": 2,
     "metadata": {},
     "output_type": "execute_result"
    }
   ],
   "source": [
    "main_df.head(5)"
   ]
  },
  {
   "cell_type": "code",
   "execution_count": 3,
   "id": "f4ae09fa",
   "metadata": {
    "scrolled": true
   },
   "outputs": [],
   "source": [
    "df=main_df.drop(['#PAGE_URL','job-link'],axis=1)"
   ]
  },
  {
   "cell_type": "code",
   "execution_count": 4,
   "id": "3d83f6f1",
   "metadata": {
    "scrolled": true
   },
   "outputs": [
    {
     "data": {
      "text/html": [
       "<div>\n",
       "<style scoped>\n",
       "    .dataframe tbody tr th:only-of-type {\n",
       "        vertical-align: middle;\n",
       "    }\n",
       "\n",
       "    .dataframe tbody tr th {\n",
       "        vertical-align: top;\n",
       "    }\n",
       "\n",
       "    .dataframe thead th {\n",
       "        text-align: right;\n",
       "    }\n",
       "</style>\n",
       "<table border=\"1\" class=\"dataframe\">\n",
       "  <thead>\n",
       "    <tr style=\"text-align: right;\">\n",
       "      <th></th>\n",
       "      <th>title</th>\n",
       "      <th>company-name</th>\n",
       "      <th>job-link_link</th>\n",
       "      <th>short-description-</th>\n",
       "      <th>location</th>\n",
       "    </tr>\n",
       "  </thead>\n",
       "  <tbody>\n",
       "    <tr>\n",
       "      <th>0</th>\n",
       "      <td>Sales Supervisor - North Upper Egypt</td>\n",
       "      <td>PepsiCo International</td>\n",
       "      <td>https://wuzzuf.net/jobs/p/cc5848eb-a2c4-4055-9...</td>\n",
       "      <td>Full Time · Manager · 1-3 Yrs of Exp · FMCG · ...</td>\n",
       "      <td>Beni Suef Egypt</td>\n",
       "    </tr>\n",
       "    <tr>\n",
       "      <th>1</th>\n",
       "      <td>Junior Technical Support Engineer - Upper Egypt</td>\n",
       "      <td>MigrationIT.com</td>\n",
       "      <td>https://wuzzuf.net/jobs/p/39a68f94-611c-4a07-9...</td>\n",
       "      <td>Full Time · Entry Level · 1-2 Yrs of Exp · ITI...</td>\n",
       "      <td>Assiut Egypt</td>\n",
       "    </tr>\n",
       "    <tr>\n",
       "      <th>2</th>\n",
       "      <td>Software Developer</td>\n",
       "      <td>Rednet It Services</td>\n",
       "      <td>https://wuzzuf.net/jobs/p/7f3aec8d-1724-4f0c-9...</td>\n",
       "      <td>Full Time · Experienced · 2-3 Yrs of Exp · Sof...</td>\n",
       "      <td>Maadi Cairo</td>\n",
       "    </tr>\n",
       "    <tr>\n",
       "      <th>3</th>\n",
       "      <td>Senior Software Quality Control Engineer</td>\n",
       "      <td>Bnsights</td>\n",
       "      <td>https://wuzzuf.net/jobs/p/bbc5d1cb-33ff-4c10-a...</td>\n",
       "      <td>Full Time · Experienced · 3-5 Yrs of Exp · Com...</td>\n",
       "      <td>New Cairo Cairo</td>\n",
       "    </tr>\n",
       "    <tr>\n",
       "      <th>4</th>\n",
       "      <td>Senior E-Commerce Software Developer (Magento 2)</td>\n",
       "      <td>shop4build</td>\n",
       "      <td>https://wuzzuf.net/jobs/p/2be88ac7-5a6c-4a5a-8...</td>\n",
       "      <td>Full Time · Part Time · Work From Home · Exper...</td>\n",
       "      <td>Maadi Cairo</td>\n",
       "    </tr>\n",
       "  </tbody>\n",
       "</table>\n",
       "</div>"
      ],
      "text/plain": [
       "                                              title           company-name  \\\n",
       "0              Sales Supervisor - North Upper Egypt  PepsiCo International   \n",
       "1   Junior Technical Support Engineer - Upper Egypt        MigrationIT.com   \n",
       "2                                Software Developer     Rednet It Services   \n",
       "3          Senior Software Quality Control Engineer               Bnsights   \n",
       "4  Senior E-Commerce Software Developer (Magento 2)             shop4build   \n",
       "\n",
       "                                       job-link_link  \\\n",
       "0  https://wuzzuf.net/jobs/p/cc5848eb-a2c4-4055-9...   \n",
       "1  https://wuzzuf.net/jobs/p/39a68f94-611c-4a07-9...   \n",
       "2  https://wuzzuf.net/jobs/p/7f3aec8d-1724-4f0c-9...   \n",
       "3  https://wuzzuf.net/jobs/p/bbc5d1cb-33ff-4c10-a...   \n",
       "4  https://wuzzuf.net/jobs/p/2be88ac7-5a6c-4a5a-8...   \n",
       "\n",
       "                                  short-description-         location  \n",
       "0  Full Time · Manager · 1-3 Yrs of Exp · FMCG · ...  Beni Suef Egypt  \n",
       "1  Full Time · Entry Level · 1-2 Yrs of Exp · ITI...     Assiut Egypt  \n",
       "2  Full Time · Experienced · 2-3 Yrs of Exp · Sof...      Maadi Cairo  \n",
       "3  Full Time · Experienced · 3-5 Yrs of Exp · Com...  New Cairo Cairo  \n",
       "4  Full Time · Part Time · Work From Home · Exper...      Maadi Cairo  "
      ]
     },
     "execution_count": 4,
     "metadata": {},
     "output_type": "execute_result"
    }
   ],
   "source": [
    "df.head(5)"
   ]
  },
  {
   "cell_type": "code",
   "execution_count": 5,
   "id": "871c4c8d",
   "metadata": {
    "scrolled": false
   },
   "outputs": [
    {
     "data": {
      "text/plain": [
       "20"
      ]
     },
     "execution_count": 5,
     "metadata": {},
     "output_type": "execute_result"
    }
   ],
   "source": [
    "df.duplicated().sum()"
   ]
  },
  {
   "cell_type": "code",
   "execution_count": 6,
   "id": "dcf61ccc",
   "metadata": {
    "scrolled": true
   },
   "outputs": [
    {
     "data": {
      "text/plain": [
       "0"
      ]
     },
     "execution_count": 6,
     "metadata": {},
     "output_type": "execute_result"
    }
   ],
   "source": [
    "df.drop_duplicates(inplace=True)\n",
    "df.duplicated().sum()"
   ]
  },
  {
   "cell_type": "code",
   "execution_count": 7,
   "id": "0a53bd06",
   "metadata": {
    "scrolled": true
   },
   "outputs": [
    {
     "data": {
      "text/plain": [
       " IT Specialist                                      22\n",
       " Business Analyst                                   18\n",
       "IT Specialist                                       17\n",
       "Graphic Designer                                    17\n",
       "Front End Developer                                 17\n",
       "                                                    ..\n",
       " Indoor Sales Representative - Alexandria            1\n",
       "Senior Full Stack Developer - Php Laravel            1\n",
       " PCB Designer Engineer                               1\n",
       " Backend Developer                                   1\n",
       " ATM Implementation - Testing & Certification...     1\n",
       "Name: title, Length: 3666, dtype: int64"
      ]
     },
     "execution_count": 7,
     "metadata": {},
     "output_type": "execute_result"
    }
   ],
   "source": [
    "df.title.value_counts()"
   ]
  },
  {
   "cell_type": "code",
   "execution_count": 8,
   "id": "94bd5fae",
   "metadata": {
    "scrolled": false
   },
   "outputs": [
    {
     "data": {
      "text/plain": [
       " Confidential                                       554\n",
       " FlairsTech                                          40\n",
       " Cegedim                                             29\n",
       " Fawry Banking & Payment Technology Services         21\n",
       "Ghassan Ahmed Alsulaiman for Electronic Services     21\n",
       "                                                   ... \n",
       " Popul8IT                                             1\n",
       "Vitas Egypt                                           1\n",
       "New Egypt Gold                                        1\n",
       "Xerox Egypt                                           1\n",
       " BPOHIVE                                              1\n",
       "Name: company-name, Length: 1964, dtype: int64"
      ]
     },
     "execution_count": 8,
     "metadata": {},
     "output_type": "execute_result"
    }
   ],
   "source": [
    "df['company-name'].replace(' ', np.nan, inplace=True) \n",
    "df['company-name'].fillna(\" Confidential\",inplace=True)\n",
    "df['company-name'].value_counts()"
   ]
  },
  {
   "cell_type": "code",
   "execution_count": 9,
   "id": "d9b67851",
   "metadata": {
    "scrolled": false
   },
   "outputs": [
    {
     "data": {
      "text/plain": [
       "0"
      ]
     },
     "execution_count": 9,
     "metadata": {},
     "output_type": "execute_result"
    }
   ],
   "source": [
    "#hidden names and confidencial seemed fishy 272 270\n",
    "df.duplicated().sum()\n",
    "#all fine though lol"
   ]
  },
  {
   "cell_type": "code",
   "execution_count": 10,
   "id": "f3566238",
   "metadata": {},
   "outputs": [
    {
     "name": "stdout",
     "output_type": "stream",
     "text": [
      "<class 'pandas.core.frame.DataFrame'>\n",
      "Int64Index: 5196 entries, 0 to 5215\n",
      "Data columns (total 5 columns):\n",
      " #   Column              Non-Null Count  Dtype \n",
      "---  ------              --------------  ----- \n",
      " 0   title               5195 non-null   object\n",
      " 1   company-name        5196 non-null   object\n",
      " 2   job-link_link       5195 non-null   object\n",
      " 3   short-description-  5195 non-null   object\n",
      " 4   location            5195 non-null   object\n",
      "dtypes: object(5)\n",
      "memory usage: 243.6+ KB\n"
     ]
    }
   ],
   "source": [
    "df.info()"
   ]
  },
  {
   "cell_type": "code",
   "execution_count": 11,
   "id": "de948c9e",
   "metadata": {
    "scrolled": false
   },
   "outputs": [
    {
     "data": {
      "text/plain": [
       "0    Full Time · Manager · 1-3 Yrs of Exp · FMCG · ...\n",
       "1    Full Time · Entry Level · 1-2 Yrs of Exp · ITI...\n",
       "2    Full Time · Experienced · 2-3 Yrs of Exp · Sof...\n",
       "3    Full Time · Experienced · 3-5 Yrs of Exp · Com...\n",
       "4    Full Time · Part Time · Work From Home · Exper...\n",
       "Name: short-description-, dtype: object"
      ]
     },
     "execution_count": 11,
     "metadata": {},
     "output_type": "execute_result"
    }
   ],
   "source": [
    "Description_Data=df['short-description-']\n",
    "Description_Data.head()"
   ]
  },
  {
   "cell_type": "code",
   "execution_count": 12,
   "id": "e9565f42",
   "metadata": {},
   "outputs": [],
   "source": [
    "jobs=df.title\n"
   ]
  },
  {
   "cell_type": "code",
   "execution_count": 13,
   "id": "d6eaff87",
   "metadata": {},
   "outputs": [],
   "source": [
    "Group_list=[]\n",
    "for temp_jobtitle in jobs:\n",
    "    if(\"IT\" in str(temp_jobtitle)):\n",
    "        Group_list.append('IT Category')\n",
    "    elif('Software'or \"Full Stack\"or\"Developer\"or\"End\"or\"end\" in str(temp_jobtitle)):\n",
    "        Group_list.append('Software Engneering ')\n",
    "    else:\n",
    "        Group_list.append(x) "
   ]
  },
  {
   "cell_type": "code",
   "execution_count": 14,
   "id": "3b9e93ff",
   "metadata": {},
   "outputs": [
    {
     "data": {
      "text/plain": [
       "5196"
      ]
     },
     "execution_count": 14,
     "metadata": {},
     "output_type": "execute_result"
    }
   ],
   "source": [
    "df['StandardJobTitle']=Group_list\n",
    "len(Group_list)"
   ]
  },
  {
   "cell_type": "code",
   "execution_count": 15,
   "id": "2c65a677",
   "metadata": {
    "scrolled": true
   },
   "outputs": [
    {
     "data": {
      "text/plain": [
       "0       Software Engneering \n",
       "1       Software Engneering \n",
       "2       Software Engneering \n",
       "3       Software Engneering \n",
       "4       Software Engneering \n",
       "                ...         \n",
       "5211    Software Engneering \n",
       "5212    Software Engneering \n",
       "5213    Software Engneering \n",
       "5214    Software Engneering \n",
       "5215    Software Engneering \n",
       "Name: StandardJobTitle, Length: 5196, dtype: object"
      ]
     },
     "execution_count": 15,
     "metadata": {},
     "output_type": "execute_result"
    }
   ],
   "source": [
    "df.StandardJobTitle\n"
   ]
  },
  {
   "cell_type": "code",
   "execution_count": 16,
   "id": "20052821",
   "metadata": {
    "scrolled": true
   },
   "outputs": [],
   "source": [
    "Description_Data=df['short-description-']\n",
    "Level_list=[]\n",
    "for Temporary_variable in Description_Data:\n",
    "    if('Entry Level' in str(Temporary_variable)):\n",
    "        Level_list.append('Entry Level')\n",
    "    elif('Experienced' in str(Temporary_variable)):\n",
    "        Level_list.append('Experienced')\n",
    "    elif('Manager'or 'Senior Management'in str(Temporary_variable)):\n",
    "        Level_list.append('Manager')\n",
    "    elif('Internship'in str(Temporary_variable)):\n",
    "        Level_list.append('Internship')\n",
    "    else:\n",
    "        Level_list.append(str(Temporary_variable)) \n",
    "df['Level']=Level_list"
   ]
  },
  {
   "cell_type": "code",
   "execution_count": 17,
   "id": "880b3747",
   "metadata": {},
   "outputs": [],
   "source": [
    "Job_Description_Data=df['short-description-']\n",
    "Type_list=[]\n",
    "for temp_Job_Description_Data in Job_Description_Data:\n",
    "    if('Full Time' in str(temp_Job_Description_Data)):\n",
    "        Type_list.append('Full Time')\n",
    "    elif('Internship' in str(temp_Job_Description_Data)):\n",
    "        Type_list.append('Internship')\n",
    "    elif('Full Time'and'Part Time' in str(temp_Job_Description_Data)):\n",
    "        Type_list.append('Full Time And Part Time')\n",
    "    elif('Full Time 'and' Part Time 'and' Work From Home'in str(temp_Job_Description_Data)):\n",
    "        Type_list.append('Full Time And Part Time And Work From Home')\n",
    "    elif('Part Time'in str(temp_Job_Description_Data)):\n",
    "        Type_list.append('Part Time')\n",
    "    else:\n",
    "        Type_list.append('Full Time')  \n",
    "\n",
    "df['Type']=Type_list"
   ]
  },
  {
   "cell_type": "code",
   "execution_count": 18,
   "id": "b117751d",
   "metadata": {
    "scrolled": true
   },
   "outputs": [
    {
     "data": {
      "text/html": [
       "<div>\n",
       "<style scoped>\n",
       "    .dataframe tbody tr th:only-of-type {\n",
       "        vertical-align: middle;\n",
       "    }\n",
       "\n",
       "    .dataframe tbody tr th {\n",
       "        vertical-align: top;\n",
       "    }\n",
       "\n",
       "    .dataframe thead th {\n",
       "        text-align: right;\n",
       "    }\n",
       "</style>\n",
       "<table border=\"1\" class=\"dataframe\">\n",
       "  <thead>\n",
       "    <tr style=\"text-align: right;\">\n",
       "      <th></th>\n",
       "      <th>title</th>\n",
       "      <th>company-name</th>\n",
       "      <th>job-link_link</th>\n",
       "      <th>short-description-</th>\n",
       "      <th>location</th>\n",
       "      <th>StandardJobTitle</th>\n",
       "      <th>Level</th>\n",
       "      <th>Type</th>\n",
       "    </tr>\n",
       "  </thead>\n",
       "  <tbody>\n",
       "    <tr>\n",
       "      <th>0</th>\n",
       "      <td>Sales Supervisor - North Upper Egypt</td>\n",
       "      <td>PepsiCo International</td>\n",
       "      <td>https://wuzzuf.net/jobs/p/cc5848eb-a2c4-4055-9...</td>\n",
       "      <td>Full Time · Manager · 1-3 Yrs of Exp · FMCG · ...</td>\n",
       "      <td>Beni Suef Egypt</td>\n",
       "      <td>Software Engneering</td>\n",
       "      <td>Manager</td>\n",
       "      <td>Full Time</td>\n",
       "    </tr>\n",
       "    <tr>\n",
       "      <th>1</th>\n",
       "      <td>Junior Technical Support Engineer - Upper Egypt</td>\n",
       "      <td>MigrationIT.com</td>\n",
       "      <td>https://wuzzuf.net/jobs/p/39a68f94-611c-4a07-9...</td>\n",
       "      <td>Full Time · Entry Level · 1-2 Yrs of Exp · ITI...</td>\n",
       "      <td>Assiut Egypt</td>\n",
       "      <td>Software Engneering</td>\n",
       "      <td>Entry Level</td>\n",
       "      <td>Full Time</td>\n",
       "    </tr>\n",
       "    <tr>\n",
       "      <th>2</th>\n",
       "      <td>Software Developer</td>\n",
       "      <td>Rednet It Services</td>\n",
       "      <td>https://wuzzuf.net/jobs/p/7f3aec8d-1724-4f0c-9...</td>\n",
       "      <td>Full Time · Experienced · 2-3 Yrs of Exp · Sof...</td>\n",
       "      <td>Maadi Cairo</td>\n",
       "      <td>Software Engneering</td>\n",
       "      <td>Experienced</td>\n",
       "      <td>Full Time</td>\n",
       "    </tr>\n",
       "    <tr>\n",
       "      <th>3</th>\n",
       "      <td>Senior Software Quality Control Engineer</td>\n",
       "      <td>Bnsights</td>\n",
       "      <td>https://wuzzuf.net/jobs/p/bbc5d1cb-33ff-4c10-a...</td>\n",
       "      <td>Full Time · Experienced · 3-5 Yrs of Exp · Com...</td>\n",
       "      <td>New Cairo Cairo</td>\n",
       "      <td>Software Engneering</td>\n",
       "      <td>Experienced</td>\n",
       "      <td>Full Time</td>\n",
       "    </tr>\n",
       "    <tr>\n",
       "      <th>4</th>\n",
       "      <td>Senior E-Commerce Software Developer (Magento 2)</td>\n",
       "      <td>shop4build</td>\n",
       "      <td>https://wuzzuf.net/jobs/p/2be88ac7-5a6c-4a5a-8...</td>\n",
       "      <td>Full Time · Part Time · Work From Home · Exper...</td>\n",
       "      <td>Maadi Cairo</td>\n",
       "      <td>Software Engneering</td>\n",
       "      <td>Experienced</td>\n",
       "      <td>Full Time</td>\n",
       "    </tr>\n",
       "  </tbody>\n",
       "</table>\n",
       "</div>"
      ],
      "text/plain": [
       "                                              title           company-name  \\\n",
       "0              Sales Supervisor - North Upper Egypt  PepsiCo International   \n",
       "1   Junior Technical Support Engineer - Upper Egypt        MigrationIT.com   \n",
       "2                                Software Developer     Rednet It Services   \n",
       "3          Senior Software Quality Control Engineer               Bnsights   \n",
       "4  Senior E-Commerce Software Developer (Magento 2)             shop4build   \n",
       "\n",
       "                                       job-link_link  \\\n",
       "0  https://wuzzuf.net/jobs/p/cc5848eb-a2c4-4055-9...   \n",
       "1  https://wuzzuf.net/jobs/p/39a68f94-611c-4a07-9...   \n",
       "2  https://wuzzuf.net/jobs/p/7f3aec8d-1724-4f0c-9...   \n",
       "3  https://wuzzuf.net/jobs/p/bbc5d1cb-33ff-4c10-a...   \n",
       "4  https://wuzzuf.net/jobs/p/2be88ac7-5a6c-4a5a-8...   \n",
       "\n",
       "                                  short-description-         location  \\\n",
       "0  Full Time · Manager · 1-3 Yrs of Exp · FMCG · ...  Beni Suef Egypt   \n",
       "1  Full Time · Entry Level · 1-2 Yrs of Exp · ITI...     Assiut Egypt   \n",
       "2  Full Time · Experienced · 2-3 Yrs of Exp · Sof...      Maadi Cairo   \n",
       "3  Full Time · Experienced · 3-5 Yrs of Exp · Com...  New Cairo Cairo   \n",
       "4  Full Time · Part Time · Work From Home · Exper...      Maadi Cairo   \n",
       "\n",
       "       StandardJobTitle        Level       Type  \n",
       "0  Software Engneering       Manager  Full Time  \n",
       "1  Software Engneering   Entry Level  Full Time  \n",
       "2  Software Engneering   Experienced  Full Time  \n",
       "3  Software Engneering   Experienced  Full Time  \n",
       "4  Software Engneering   Experienced  Full Time  "
      ]
     },
     "execution_count": 18,
     "metadata": {},
     "output_type": "execute_result"
    }
   ],
   "source": [
    "df.head(5)"
   ]
  },
  {
   "cell_type": "code",
   "execution_count": 19,
   "id": "42a2cc24",
   "metadata": {},
   "outputs": [],
   "source": [
    "df = df.rename(columns = {'title':'job_title','company-name': 'company','job-link_link': 'job_profile','short-description-':'description'})"
   ]
  },
  {
   "cell_type": "code",
   "execution_count": 20,
   "id": "fcced99b",
   "metadata": {},
   "outputs": [],
   "source": [
    "df.to_csv(\"wuzzafCleaned20-21.csv\", index = False)"
   ]
  },
  {
   "cell_type": "code",
   "execution_count": 21,
   "id": "fcbe1f28",
   "metadata": {},
   "outputs": [
    {
     "data": {
      "text/plain": [
       "Maadi Cairo                     822\n",
       "Cairo Egypt                     802\n",
       "Nasr City Cairo                 625\n",
       "New Cairo Cairo                 582\n",
       "Heliopolis Cairo                291\n",
       "6th Of October Giza             257\n",
       "Dokki Giza                      188\n",
       "Alexandria Egypt                141\n",
       "Sheraton Cairo                  131\n",
       "Mohandessin Giza                128\n",
       "Giza Egypt                      102\n",
       "Sheikh Zayed Giza                97\n",
       "Obour City Cairo                 85\n",
       "Smart Village Giza               66\n",
       "Mokattam Cairo                   48\n",
       "Riyadh Saudi Arabia              46\n",
       "10th Of Ramadan City Sharqia     43\n",
       "10th Of Ramadan City Cairo       43\n",
       "Zamalek Cairo                    42\n",
       "Downtown Cairo                   38\n",
       "Name: location, dtype: int64"
      ]
     },
     "execution_count": 21,
     "metadata": {},
     "output_type": "execute_result"
    }
   ],
   "source": [
    "df['location'].value_counts()[:20]"
   ]
  },
  {
   "cell_type": "markdown",
   "id": "1c2ea3c4",
   "metadata": {},
   "source": [
    "# analysis\n"
   ]
  },
  {
   "cell_type": "code",
   "execution_count": 27,
   "id": "77319e73",
   "metadata": {
    "scrolled": true
   },
   "outputs": [
    {
     "data": {
      "text/plain": [
       "<AxesSubplot:title={'center':'Geographical distribution of jobs'}>"
      ]
     },
     "execution_count": 27,
     "metadata": {},
     "output_type": "execute_result"
    },
    {
     "data": {
      "image/png": "[encoded data removed]",
      "text/plain": [
       "<Figure size 432x288 with 1 Axes>"
      ]
     },
     "metadata": {
      "needs_background": "light"
     },
     "output_type": "display_data"
    }
   ],
   "source": [
    "location = df['location'].value_counts()[:10]\n",
    "location.plot(kind = 'barh',color = \"lightskyblue\",title='Geographical distribution of jobs')"
   ]
  },
  {
   "cell_type": "markdown",
   "id": "d75a5f1a",
   "metadata": {},
   "source": [
    "Location Graph showed some improvement in terms of offers in Alexandria but still most jobs are\n",
    "centered around Cairo"
   ]
  },
  {
   "cell_type": "code",
   "execution_count": 23,
   "id": "bfb3ec68",
   "metadata": {},
   "outputs": [
    {
     "data": {
      "text/plain": [
       "Full Time                                     5027\n",
       "Internship                                      84\n",
       "Full Time And Part Time                         76\n",
       "Full Time And Part Time And Work From Home       9\n",
       "Name: Type, dtype: int64"
      ]
     },
     "execution_count": 23,
     "metadata": {},
     "output_type": "execute_result"
    }
   ],
   "source": [
    "df.Type.value_counts()\n"
   ]
  },
  {
   "cell_type": "code",
   "execution_count": 32,
   "id": "7bd39243",
   "metadata": {
    "scrolled": true
   },
   "outputs": [
    {
     "name": "stderr",
     "output_type": "stream",
     "text": [
      "<ipython-input-32-ac90a5532581>:4: MatplotlibDeprecationWarning: normalize=None does not normalize if the sum is less than 1 but this behavior is deprecated since 3.3 until two minor releases later. After the deprecation period the default value will be normalize=True. To prevent normalization pass normalize=False \n",
      "  axesObject.pie(job_typeShare,labels=pieLabels, autopct='%5.1f',startangle=180)\n"
     ]
    },
    {
     "data": {
      "image/png": "[encoded data removed]",
      "text/plain": [
       "<Figure size 432x288 with 1 Axes>"
      ]
     },
     "metadata": {},
     "output_type": "display_data"
    }
   ],
   "source": [
    "pieLabels = 'Full Time', 'Part Time', 'Intership'\n",
    "job_typeShare = [5027/5196,76/5196,84/5196 ]\n",
    "figureObject, axesObject = plt.subplots()\n",
    "axesObject.pie(job_typeShare,labels=pieLabels, autopct='%5.1f',startangle=180)\n",
    "axesObject.axis('equal')\n",
    "plt.show()"
   ]
  },
  {
   "cell_type": "markdown",
   "id": "7896b1fe",
   "metadata": {},
   "source": [
    "Part-time and internships got even lower which is rly concerning but not surprising since companies are\n",
    "trying to recover after corona so they don’t want dead-weights"
   ]
  },
  {
   "cell_type": "code",
   "execution_count": 25,
   "id": "79dbf072",
   "metadata": {},
   "outputs": [
    {
     "data": {
      "text/plain": [
       "<AxesSubplot:>"
      ]
     },
     "execution_count": 25,
     "metadata": {},
     "output_type": "execute_result"
    },
    {
     "data": {
      "image/png": "[encoded data removed]",
      "text/plain": [
       "<Figure size 432x288 with 1 Axes>"
      ]
     },
     "metadata": {
      "needs_background": "light"
     },
     "output_type": "display_data"
    }
   ],
   "source": [
    "location = df['Level'].value_counts()[:3]\n",
    "location.plot(kind = 'barh',color = \"lightskyblue\")"
   ]
  },
  {
   "cell_type": "markdown",
   "id": "06e2d718",
   "metadata": {},
   "source": [
    "Seems that most offers want experienced workers and it actually make sense since most of them barely\n",
    "survived from covid lockdown"
   ]
  },
  {
   "cell_type": "code",
   "execution_count": 26,
   "id": "d20b4262",
   "metadata": {
    "scrolled": true
   },
   "outputs": [
    {
     "data": {
      "text/plain": [
       "<AxesSubplot:title={'center':'Most 10 offers during the last quarter of 2020'}>"
      ]
     },
     "execution_count": 26,
     "metadata": {},
     "output_type": "execute_result"
    },
    {
     "data": {
      "image/png": "[encoded data removed]",
      "text/plain": [
       "<Figure size 432x288 with 1 Axes>"
      ]
     },
     "metadata": {
      "needs_background": "light"
     },
     "output_type": "display_data"
    }
   ],
   "source": [
    "location = df['job_title'].value_counts()[:10]\n",
    "location.plot(kind = 'barh',color = \"lightskyblue\",title='Most 10 offers during the last quarter of 2020')"
   ]
  },
  {
   "cell_type": "markdown",
   "id": "0306f3bd",
   "metadata": {},
   "source": [
    "From the job title graph, we notice that the demand for Graphic Designers increased the need for\n",
    "business analysts suddenly increased"
   ]
  },
  {
   "cell_type": "markdown",
   "id": "490092ce",
   "metadata": {},
   "source": [
    "Okay that sums things up for the analysis part.\n",
    "The scrapping part was rly a pain but things turned out fine in the end It was fun and frustrating at the\n",
    "same time"
   ]
  },
  {
   "cell_type": "code",
   "execution_count": null,
   "id": "c6c4066a",
   "metadata": {},
   "outputs": [],
   "source": []
  }
 ],
 "metadata": {
  "kernelspec": {
   "display_name": "Python 3",
   "language": "python",
   "name": "python3"
  },
  "language_info": {
   "codemirror_mode": {
    "name": "ipython",
    "version": 3
   },
   "file_extension": ".py",
   "mimetype": "text/x-python",
   "name": "python",
   "nbconvert_exporter": "python",
   "pygments_lexer": "ipython3",
   "version": "3.8.8"
  }
 },
 "nbformat": 4,
 "nbformat_minor": 5
}
