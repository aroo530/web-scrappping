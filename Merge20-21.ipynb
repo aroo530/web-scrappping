{
 "cells": [
  {
   "cell_type": "code",
   "execution_count": 2,
   "id": "93325c49",
   "metadata": {},
   "outputs": [],
   "source": [
    "import pandas as pd\n",
    "df2021=pd.read_csv('wuzzaf9_8_2021.csv')\n",
    "df2020=pd.read_csv('wuzzaf_2020.csv')"
   ]
  },
  {
   "cell_type": "code",
   "execution_count": 11,
   "id": "318a29ea",
   "metadata": {},
   "outputs": [],
   "source": [
    "\n",
    "df2021['location']=df2021['location'].str.replace(\",\",\"-\")\n",
    "df2021['location']=df2021['location'].str.replace(\"-\",\"\",)\n",
    "df2021['location']=df2021['location'].str.strip()\n",
    "df2021['short-description-']=df2021['short-description-'].str.replace(\",\",\"/\")"
   ]
  },
  {
   "cell_type": "code",
   "execution_count": 12,
   "id": "81086c9d",
   "metadata": {
    "scrolled": false
   },
   "outputs": [
    {
     "data": {
      "text/html": [
       "<div>\n",
       "<style scoped>\n",
       "    .dataframe tbody tr th:only-of-type {\n",
       "        vertical-align: middle;\n",
       "    }\n",
       "\n",
       "    .dataframe tbody tr th {\n",
       "        vertical-align: top;\n",
       "    }\n",
       "\n",
       "    .dataframe thead th {\n",
       "        text-align: right;\n",
       "    }\n",
       "</style>\n",
       "<table border=\"1\" class=\"dataframe\">\n",
       "  <thead>\n",
       "    <tr style=\"text-align: right;\">\n",
       "      <th></th>\n",
       "      <th>#PAGE_URL</th>\n",
       "      <th>title</th>\n",
       "      <th>company-name</th>\n",
       "      <th>job-link</th>\n",
       "      <th>job-link_link</th>\n",
       "      <th>short-description-</th>\n",
       "      <th>location</th>\n",
       "    </tr>\n",
       "  </thead>\n",
       "  <tbody>\n",
       "    <tr>\n",
       "      <th>0</th>\n",
       "      <td>https://wuzzuf.net/a/IT-Software-Development-J...</td>\n",
       "      <td>Business Development Specialist - Upper Egypt</td>\n",
       "      <td>golden</td>\n",
       "      <td>Business Development Specialist - Upper Egypt</td>\n",
       "      <td>https://wuzzuf.net/jobs/p/1623d22c-3de2-455a-...</td>\n",
       "      <td>Full Time · Experienced · 2+ Yrs of Exp · Bus...</td>\n",
       "      <td>Aswan Egypt</td>\n",
       "    </tr>\n",
       "    <tr>\n",
       "      <th>1</th>\n",
       "      <td>https://wuzzuf.net/a/IT-Software-Development-...</td>\n",
       "      <td>Senior/Intermediate .NET Core Developer (Remo...</td>\n",
       "      <td>Confidential</td>\n",
       "      <td>Senior/Intermediate .NET Core Developer (Remo...</td>\n",
       "      <td>https://wuzzuf.net/jobs/p/0efb55cc-3264-47b4-...</td>\n",
       "      <td>Full Time · Experienced · 4+ Yrs of Exp · Sof...</td>\n",
       "      <td>Cairo Egypt</td>\n",
       "    </tr>\n",
       "    <tr>\n",
       "      <th>2</th>\n",
       "      <td>https://wuzzuf.net/a/IT-Software-Development-...</td>\n",
       "      <td>Senior Software Developer</td>\n",
       "      <td>Bnsights</td>\n",
       "      <td>Senior Software Developer</td>\n",
       "      <td>https://wuzzuf.net/jobs/p/d76caa63-bc76-4839-...</td>\n",
       "      <td>Full Time · Experienced · 6-10 Yrs of Exp · S...</td>\n",
       "      <td>New Cairo Cairo</td>\n",
       "    </tr>\n",
       "    <tr>\n",
       "      <th>3</th>\n",
       "      <td>https://wuzzuf.net/a/IT-Software-Development-...</td>\n",
       "      <td>Software Developer / Desktop Development</td>\n",
       "      <td>ITS</td>\n",
       "      <td>Software Developer / Desktop Development</td>\n",
       "      <td>https://wuzzuf.net/jobs/p/2ffe3403-b147-4b38-...</td>\n",
       "      <td>Full Time · Entry Level · 0-2 Yrs of Exp · Co...</td>\n",
       "      <td>Nasr City Cairo</td>\n",
       "    </tr>\n",
       "    <tr>\n",
       "      <th>4</th>\n",
       "      <td>https://wuzzuf.net/a/IT-Software-Development-...</td>\n",
       "      <td>Senior Software Developer -Dynamics 365...</td>\n",
       "      <td>CrossWorkers</td>\n",
       "      <td>Senior Software Developer -Dynamics 365...</td>\n",
       "      <td>https://wuzzuf.net/jobs/p/b6ae6a6a-47b8-47f7-...</td>\n",
       "      <td>Full Time · Experienced · 4-12 Yrs of Exp · A...</td>\n",
       "      <td>New Cairo Cairo</td>\n",
       "    </tr>\n",
       "  </tbody>\n",
       "</table>\n",
       "</div>"
      ],
      "text/plain": [
       "                                           #PAGE_URL  \\\n",
       "0  https://wuzzuf.net/a/IT-Software-Development-J...   \n",
       "1   https://wuzzuf.net/a/IT-Software-Development-...   \n",
       "2   https://wuzzuf.net/a/IT-Software-Development-...   \n",
       "3   https://wuzzuf.net/a/IT-Software-Development-...   \n",
       "4   https://wuzzuf.net/a/IT-Software-Development-...   \n",
       "\n",
       "                                               title   company-name  \\\n",
       "0      Business Development Specialist - Upper Egypt         golden   \n",
       "1   Senior/Intermediate .NET Core Developer (Remo...   Confidential   \n",
       "2                          Senior Software Developer       Bnsights   \n",
       "3           Software Developer / Desktop Development            ITS   \n",
       "4         Senior Software Developer -Dynamics 365...   CrossWorkers   \n",
       "\n",
       "                                            job-link  \\\n",
       "0      Business Development Specialist - Upper Egypt   \n",
       "1   Senior/Intermediate .NET Core Developer (Remo...   \n",
       "2                          Senior Software Developer   \n",
       "3           Software Developer / Desktop Development   \n",
       "4         Senior Software Developer -Dynamics 365...   \n",
       "\n",
       "                                       job-link_link  \\\n",
       "0   https://wuzzuf.net/jobs/p/1623d22c-3de2-455a-...   \n",
       "1   https://wuzzuf.net/jobs/p/0efb55cc-3264-47b4-...   \n",
       "2   https://wuzzuf.net/jobs/p/d76caa63-bc76-4839-...   \n",
       "3   https://wuzzuf.net/jobs/p/2ffe3403-b147-4b38-...   \n",
       "4   https://wuzzuf.net/jobs/p/b6ae6a6a-47b8-47f7-...   \n",
       "\n",
       "                                  short-description-         location  \n",
       "0   Full Time · Experienced · 2+ Yrs of Exp · Bus...      Aswan Egypt  \n",
       "1   Full Time · Experienced · 4+ Yrs of Exp · Sof...      Cairo Egypt  \n",
       "2   Full Time · Experienced · 6-10 Yrs of Exp · S...  New Cairo Cairo  \n",
       "3   Full Time · Entry Level · 0-2 Yrs of Exp · Co...  Nasr City Cairo  \n",
       "4   Full Time · Experienced · 4-12 Yrs of Exp · A...  New Cairo Cairo  "
      ]
     },
     "execution_count": 12,
     "metadata": {},
     "output_type": "execute_result"
    }
   ],
   "source": [
    "df2021.head()"
   ]
  },
  {
   "cell_type": "code",
   "execution_count": 13,
   "id": "3c716b30",
   "metadata": {},
   "outputs": [
    {
     "data": {
      "text/html": [
       "<div>\n",
       "<style scoped>\n",
       "    .dataframe tbody tr th:only-of-type {\n",
       "        vertical-align: middle;\n",
       "    }\n",
       "\n",
       "    .dataframe tbody tr th {\n",
       "        vertical-align: top;\n",
       "    }\n",
       "\n",
       "    .dataframe thead th {\n",
       "        text-align: right;\n",
       "    }\n",
       "</style>\n",
       "<table border=\"1\" class=\"dataframe\">\n",
       "  <thead>\n",
       "    <tr style=\"text-align: right;\">\n",
       "      <th></th>\n",
       "      <th>#PAGE_URL</th>\n",
       "      <th>title</th>\n",
       "      <th>company-name</th>\n",
       "      <th>job-link</th>\n",
       "      <th>job-link_link</th>\n",
       "      <th>short-description-</th>\n",
       "      <th>location</th>\n",
       "    </tr>\n",
       "  </thead>\n",
       "  <tbody>\n",
       "    <tr>\n",
       "      <th>0</th>\n",
       "      <td>https://wuzzuf.net/a/IT-Software-Development-J...</td>\n",
       "      <td>Sales Supervisor - North Upper Egypt</td>\n",
       "      <td>PepsiCo International</td>\n",
       "      <td>Sales Supervisor - North Upper Egypt</td>\n",
       "      <td>https://wuzzuf.net/jobs/p/cc5848eb-a2c4-4055-9...</td>\n",
       "      <td>Full Time · Manager · 1-3 Yrs of Exp · FMCG · ...</td>\n",
       "      <td>Beni Suef Egypt</td>\n",
       "    </tr>\n",
       "    <tr>\n",
       "      <th>1</th>\n",
       "      <td>https://wuzzuf.net/a/IT-Software-Development-J...</td>\n",
       "      <td>Junior Technical Support Engineer - Upper Egypt</td>\n",
       "      <td>MigrationIT.com</td>\n",
       "      <td>Junior Technical Support Engineer - Upper Egypt</td>\n",
       "      <td>https://wuzzuf.net/jobs/p/39a68f94-611c-4a07-9...</td>\n",
       "      <td>Full Time · Entry Level · 1-2 Yrs of Exp · ITI...</td>\n",
       "      <td>Assiut Egypt</td>\n",
       "    </tr>\n",
       "    <tr>\n",
       "      <th>2</th>\n",
       "      <td>https://wuzzuf.net/a/IT-Software-Development-J...</td>\n",
       "      <td>Software Developer</td>\n",
       "      <td>Rednet It Services</td>\n",
       "      <td>Software Developer</td>\n",
       "      <td>https://wuzzuf.net/jobs/p/7f3aec8d-1724-4f0c-9...</td>\n",
       "      <td>Full Time · Experienced · 2-3 Yrs of Exp · Sof...</td>\n",
       "      <td>Maadi Cairo</td>\n",
       "    </tr>\n",
       "    <tr>\n",
       "      <th>3</th>\n",
       "      <td>https://wuzzuf.net/a/IT-Software-Development-J...</td>\n",
       "      <td>Senior Software Quality Control Engineer</td>\n",
       "      <td>Bnsights</td>\n",
       "      <td>Senior Software Quality Control Engineer</td>\n",
       "      <td>https://wuzzuf.net/jobs/p/bbc5d1cb-33ff-4c10-a...</td>\n",
       "      <td>Full Time · Experienced · 3-5 Yrs of Exp · Com...</td>\n",
       "      <td>New Cairo Cairo</td>\n",
       "    </tr>\n",
       "    <tr>\n",
       "      <th>4</th>\n",
       "      <td>https://wuzzuf.net/a/IT-Software-Development-J...</td>\n",
       "      <td>Senior E-Commerce Software Developer (Magento 2)</td>\n",
       "      <td>shop4build</td>\n",
       "      <td>Senior E-Commerce Software Developer (Magento 2)</td>\n",
       "      <td>https://wuzzuf.net/jobs/p/2be88ac7-5a6c-4a5a-8...</td>\n",
       "      <td>Full Time · Part Time · Work From Home · Exper...</td>\n",
       "      <td>Maadi Cairo</td>\n",
       "    </tr>\n",
       "  </tbody>\n",
       "</table>\n",
       "</div>"
      ],
      "text/plain": [
       "                                           #PAGE_URL  \\\n",
       "0  https://wuzzuf.net/a/IT-Software-Development-J...   \n",
       "1  https://wuzzuf.net/a/IT-Software-Development-J...   \n",
       "2  https://wuzzuf.net/a/IT-Software-Development-J...   \n",
       "3  https://wuzzuf.net/a/IT-Software-Development-J...   \n",
       "4  https://wuzzuf.net/a/IT-Software-Development-J...   \n",
       "\n",
       "                                              title           company-name  \\\n",
       "0              Sales Supervisor - North Upper Egypt  PepsiCo International   \n",
       "1   Junior Technical Support Engineer - Upper Egypt        MigrationIT.com   \n",
       "2                                Software Developer     Rednet It Services   \n",
       "3          Senior Software Quality Control Engineer               Bnsights   \n",
       "4  Senior E-Commerce Software Developer (Magento 2)             shop4build   \n",
       "\n",
       "                                           job-link  \\\n",
       "0              Sales Supervisor - North Upper Egypt   \n",
       "1   Junior Technical Support Engineer - Upper Egypt   \n",
       "2                                Software Developer   \n",
       "3          Senior Software Quality Control Engineer   \n",
       "4  Senior E-Commerce Software Developer (Magento 2)   \n",
       "\n",
       "                                       job-link_link  \\\n",
       "0  https://wuzzuf.net/jobs/p/cc5848eb-a2c4-4055-9...   \n",
       "1  https://wuzzuf.net/jobs/p/39a68f94-611c-4a07-9...   \n",
       "2  https://wuzzuf.net/jobs/p/7f3aec8d-1724-4f0c-9...   \n",
       "3  https://wuzzuf.net/jobs/p/bbc5d1cb-33ff-4c10-a...   \n",
       "4  https://wuzzuf.net/jobs/p/2be88ac7-5a6c-4a5a-8...   \n",
       "\n",
       "                                  short-description-         location  \n",
       "0  Full Time · Manager · 1-3 Yrs of Exp · FMCG · ...  Beni Suef Egypt  \n",
       "1  Full Time · Entry Level · 1-2 Yrs of Exp · ITI...     Assiut Egypt  \n",
       "2  Full Time · Experienced · 2-3 Yrs of Exp · Sof...      Maadi Cairo  \n",
       "3  Full Time · Experienced · 3-5 Yrs of Exp · Com...  New Cairo Cairo  \n",
       "4  Full Time · Part Time · Work From Home · Exper...      Maadi Cairo  "
      ]
     },
     "execution_count": 13,
     "metadata": {},
     "output_type": "execute_result"
    }
   ],
   "source": [
    "df2020['location']=df2020['location'].str.replace(\",\",\"-\")\n",
    "df2020['location']=df2020['location'].str.replace(\"-\",\"\",)\n",
    "df2020['short-description-']=df2020['short-description-'].str.replace(\",\",\"/\")\n",
    "df2020.head()"
   ]
  },
  {
   "cell_type": "code",
   "execution_count": 14,
   "id": "67413f23",
   "metadata": {
    "scrolled": false
   },
   "outputs": [
    {
     "name": "stdout",
     "output_type": "stream",
     "text": [
      "<class 'pandas.core.frame.DataFrame'>\n",
      "RangeIndex: 2580 entries, 0 to 2579\n",
      "Data columns (total 7 columns):\n",
      " #   Column              Non-Null Count  Dtype \n",
      "---  ------              --------------  ----- \n",
      " 0   #PAGE_URL           2580 non-null   object\n",
      " 1   title               2580 non-null   object\n",
      " 2   company-name        2580 non-null   object\n",
      " 3   job-link            2580 non-null   object\n",
      " 4   job-link_link       2580 non-null   object\n",
      " 5   short-description-  2580 non-null   object\n",
      " 6   location            2580 non-null   object\n",
      "dtypes: object(7)\n",
      "memory usage: 141.2+ KB\n"
     ]
    }
   ],
   "source": [
    "df2020.info()"
   ]
  },
  {
   "cell_type": "code",
   "execution_count": 15,
   "id": "61457efc",
   "metadata": {},
   "outputs": [
    {
     "name": "stdout",
     "output_type": "stream",
     "text": [
      "<class 'pandas.core.frame.DataFrame'>\n",
      "RangeIndex: 2636 entries, 0 to 2635\n",
      "Data columns (total 7 columns):\n",
      " #   Column              Non-Null Count  Dtype \n",
      "---  ------              --------------  ----- \n",
      " 0   #PAGE_URL           2636 non-null   object\n",
      " 1   title               2635 non-null   object\n",
      " 2   company-name        2635 non-null   object\n",
      " 3   job-link            2635 non-null   object\n",
      " 4   job-link_link       2635 non-null   object\n",
      " 5   short-description-  2635 non-null   object\n",
      " 6   location            2635 non-null   object\n",
      "dtypes: object(7)\n",
      "memory usage: 144.3+ KB\n"
     ]
    }
   ],
   "source": [
    "df2021.info()"
   ]
  },
  {
   "cell_type": "code",
   "execution_count": 16,
   "id": "3e735cc7",
   "metadata": {
    "scrolled": false
   },
   "outputs": [
    {
     "name": "stdout",
     "output_type": "stream",
     "text": [
      "<class 'pandas.core.frame.DataFrame'>\n",
      "RangeIndex: 5216 entries, 0 to 5215\n",
      "Data columns (total 7 columns):\n",
      " #   Column              Non-Null Count  Dtype \n",
      "---  ------              --------------  ----- \n",
      " 0   #PAGE_URL           5216 non-null   object\n",
      " 1   title               5215 non-null   object\n",
      " 2   company-name        5215 non-null   object\n",
      " 3   job-link            5215 non-null   object\n",
      " 4   job-link_link       5215 non-null   object\n",
      " 5   short-description-  5215 non-null   object\n",
      " 6   location            5215 non-null   object\n",
      "dtypes: object(7)\n",
      "memory usage: 285.4+ KB\n"
     ]
    }
   ],
   "source": [
    "df_full=df2020.append(df2021,ignore_index=True)\n",
    "df_full.info()"
   ]
  },
  {
   "cell_type": "code",
   "execution_count": 17,
   "id": "20d844f3",
   "metadata": {},
   "outputs": [],
   "source": [
    "df_full.to_csv('wuzzuf20-21.csv',index=False)"
   ]
  },
  {
   "cell_type": "code",
   "execution_count": null,
   "id": "4390db02",
   "metadata": {},
   "outputs": [],
   "source": []
  },
  {
   "cell_type": "code",
   "execution_count": null,
   "id": "f0cee5a4",
   "metadata": {},
   "outputs": [],
   "source": []
  },
  {
   "cell_type": "code",
   "execution_count": null,
   "id": "ded8c564",
   "metadata": {},
   "outputs": [],
   "source": []
  },
  {
   "cell_type": "code",
   "execution_count": null,
   "id": "a0c527e3",
   "metadata": {},
   "outputs": [],
   "source": []
  }
 ],
 "metadata": {
  "kernelspec": {
   "display_name": "Python 3",
   "language": "python",
   "name": "python3"
  },
  "language_info": {
   "codemirror_mode": {
    "name": "ipython",
    "version": 3
   },
   "file_extension": ".py",
   "mimetype": "text/x-python",
   "name": "python",
   "nbconvert_exporter": "python",
   "pygments_lexer": "ipython3",
   "version": "3.8.8"
  }
 },
 "nbformat": 4,
 "nbformat_minor": 5
}
